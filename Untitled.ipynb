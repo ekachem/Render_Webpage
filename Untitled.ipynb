{
 "cells": [
  {
   "cell_type": "code",
   "execution_count": 1,
   "id": "00dd3037",
   "metadata": {},
   "outputs": [
    {
     "name": "stdout",
     "output_type": "stream",
     "text": [
      " * Serving Flask app \"__main__\" (lazy loading)\n",
      " * Environment: production\n",
      "   WARNING: This is a development server. Do not use it in a production deployment.\n",
      "   Use a production WSGI server instead.\n",
      " * Debug mode: off\n"
     ]
    },
    {
     "name": "stderr",
     "output_type": "stream",
     "text": [
      " * Running on http://127.0.0.1:5000/ (Press CTRL+C to quit)\n",
      "127.0.0.1 - - [18/May/2025 13:48:39] \"\u001b[37mGET / HTTP/1.1\u001b[0m\" 200 -\n",
      "127.0.0.1 - - [18/May/2025 13:48:41] \"\u001b[37mGET /test HTTP/1.1\u001b[0m\" 200 -\n",
      "127.0.0.1 - - [18/May/2025 13:48:47] \"\u001b[37mPOST /submit HTTP/1.1\u001b[0m\" 200 -\n"
     ]
    }
   ],
   "source": [
    "from flask import Flask, render_template, request\n",
    "\n",
    "app = Flask(__name__)\n",
    "\n",
    "def load_questions():\n",
    "    return {\n",
    "        \"title\": \"Grade 3 EQAO Practice\",\n",
    "        \"questions\": [\n",
    "            {\n",
    "                \"question\": \"What is 2 + 2?\",\n",
    "                \"choices\": [\"3\", \"4\", \"5\"],\n",
    "                \"answer\": \"4\"\n",
    "            },\n",
    "            {\n",
    "                \"question\": \"What color is the sky on a clear day?\",\n",
    "                \"choices\": [\"Blue\", \"Green\", \"Red\"],\n",
    "                \"answer\": \"Blue\"\n",
    "            },\n",
    "            {\n",
    "                \"question\": \"How many days are there in a week?\",\n",
    "                \"choices\": [\"5\", \"7\", \"10\"],\n",
    "                \"answer\": \"7\"\n",
    "            }\n",
    "        ]\n",
    "    }\n",
    "\n",
    "@app.route(\"/\")\n",
    "def index():\n",
    "    data = load_questions()\n",
    "    return render_template(\"index.html\", title=data[\"title\"])\n",
    "\n",
    "@app.route(\"/test\")\n",
    "def test():\n",
    "    data = load_questions()\n",
    "    return render_template(\"test.html\", questions=data[\"questions\"], title=data[\"title\"])\n",
    "\n",
    "@app.route(\"/submit\", methods=[\"POST\"])\n",
    "def submit():\n",
    "    data = load_questions()\n",
    "    score = 0\n",
    "    results = []\n",
    "\n",
    "    for i, q in enumerate(data[\"questions\"]):\n",
    "        user_answer = request.form.get(f\"q{i}\")\n",
    "        correct = user_answer == q[\"answer\"]\n",
    "        if correct:\n",
    "            score += 1\n",
    "        results.append({\n",
    "            \"question\": q[\"question\"],\n",
    "            \"your_answer\": user_answer,\n",
    "            \"correct_answer\": q[\"answer\"],\n",
    "            \"is_correct\": correct\n",
    "        })\n",
    "\n",
    "    return render_template(\"result.html\", score=score, total=len(data[\"questions\"]), results=results, title=data[\"title\"])\n",
    "\n",
    "if __name__ == \"__main__\":\n",
    "    app.run()\n"
   ]
  },
  {
   "cell_type": "code",
   "execution_count": null,
   "id": "9fa951e8",
   "metadata": {},
   "outputs": [],
   "source": []
  }
 ],
 "metadata": {
  "kernelspec": {
   "display_name": "Python 3",
   "language": "python",
   "name": "python3"
  },
  "language_info": {
   "codemirror_mode": {
    "name": "ipython",
    "version": 3
   },
   "file_extension": ".py",
   "mimetype": "text/x-python",
   "name": "python",
   "nbconvert_exporter": "python",
   "pygments_lexer": "ipython3",
   "version": "3.8.8"
  }
 },
 "nbformat": 4,
 "nbformat_minor": 5
}
